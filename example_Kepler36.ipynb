{
 "cells": [
  {
   "cell_type": "code",
   "execution_count": 1,
   "id": "4a3456d8",
   "metadata": {},
   "outputs": [],
   "source": [
    "import numpy as np\n",
    "import matplotlib.pyplot as plt\n",
    "import classes as cl\n",
    "import masslosstime as ml\n",
    "import masslosstime_env as ml_env\n",
    "import cpml_masslosstime \n",
    "import planetstructure\n",
    "from numpy import savetxt"
   ]
  },
  {
   "cell_type": "markdown",
   "id": "9b0b0e5f",
   "metadata": {},
   "source": [
    "We will use Kepler-36 as our example system. \n",
    "\n",
    "Start by inputting the necessary stellar and planetary parameters. We use parameters from Berger et al. (2020)"
   ]
  },
  {
   "cell_type": "code",
   "execution_count": 2,
   "id": "fca649eb",
   "metadata": {},
   "outputs": [],
   "source": [
    "starparams=(1.17,4490, 1.59, 6126) #mass (solar masses), age (Gyr), radius (solar radii), effective temperature (K)\n",
    "#parameters for the rocky planet Kepler-36b\n",
    "planetRockyparams=(1.43,13.87) #radius (Earth radii), period (days)\n",
    "#parameters for the enveloped planet Kepler-36c\n",
    "planetEnvparams=(3.50,16.22)  #radius (Earth radii), period (days)"
   ]
  },
  {
   "cell_type": "markdown",
   "id": "ab0b612a",
   "metadata": {},
   "source": [
    "Uncertainties can be included on each input parameter"
   ]
  },
  {
   "cell_type": "code",
   "execution_count": 3,
   "id": "23a899d3",
   "metadata": {},
   "outputs": [],
   "source": [
    "star_mass_err=.079\n",
    "star_age_err=1667\n",
    "star_rad_err=.069\n",
    "star_teff_err=169\n",
    "\n",
    "rocky_rad_err=.089\n",
    "rocky_per_err=.0005\n",
    "\n",
    "env_rad_err=.0001\n",
    "env_per_err=.155"
   ]
  },
  {
   "cell_type": "markdown",
   "id": "3441832b",
   "metadata": {},
   "source": [
    "Create the planetary system using the dictionaries and variables defined above"
   ]
  },
  {
   "cell_type": "code",
   "execution_count": 4,
   "id": "d88910e8",
   "metadata": {},
   "outputs": [],
   "source": [
    "#uncertainties are input as key-word arguments\n",
    "\n",
    "system=cl.PlanetarySystem(starparams, planetRockyparams, planetEnvparams, Mstar_err=star_mass_err, Star_age_err=star_age_err, Rstar_err=star_rad_err, Teff_err=star_teff_err, Rrocky_err=rocky_rad_err, Procky_err=rocky_per_err, Renv_err=env_rad_err, Penv_err=env_per_err)"
   ]
  },
  {
   "cell_type": "markdown",
   "id": "3e8781b5",
   "metadata": {},
   "source": [
    "Other optional key-word arguments for defining the planetary system include: \n",
    "\n",
    "albedo_rocky-set the albedo of the rocky planet, default=0\n",
    "\n",
    "albedo_env- set the albedo of the enveloped planet, default=0\n",
    "\n",
    "Xiron_rocky- set the iron mass fraction of the rocky planet, default=1/3\n",
    "\n",
    "Xiron_env - set the iron mass fraction of the enveloped planet, default=1/3\n",
    "\n",
    "Tkh_PE- the time at which we scale the timescales to compare between planets undergoing PE, value is set by default depending on stellar mass\n",
    "\n",
    "Tkh_CPML- the time at which we scale the timescales for CPML, default= 1000 Myr\n",
    "\n",
    "Tkh_PRV- the time at which we scale the tiemscales for PRV, default=1 Myr"
   ]
  },
  {
   "cell_type": "code",
   "execution_count": 5,
   "id": "bbfa0b5d",
   "metadata": {},
   "outputs": [],
   "source": [
    "#randomly sample N times\n",
    "cl.PlanetarySystem.sample_params(system, N=500)"
   ]
  },
  {
   "cell_type": "markdown",
   "id": "2daaec5b",
   "metadata": {},
   "source": [
    "Choose one of the three mechanisms to evaluate first and save the returned minimum mass estimates. Repeat for all three mechanisms. \n"
   ]
  },
  {
   "cell_type": "code",
   "execution_count": 7,
   "id": "40aa4faa",
   "metadata": {
    "scrolled": true
   },
   "outputs": [
    {
     "name": "stderr",
     "output_type": "stream",
     "text": [
      " 16%|█████████████                                                                    | 81/500 [03:45<18:27,  2.64s/it]"
     ]
    },
    {
     "name": "stdout",
     "output_type": "stream",
     "text": [
      "Cannot find maximum mass for enveloped planet with radius 3.4998620744887234\n"
     ]
    },
    {
     "name": "stderr",
     "output_type": "stream",
     "text": [
      " 64%|███████████████████████████████████████████████████▎                            | 321/500 [10:31<04:32,  1.52s/it]"
     ]
    },
    {
     "name": "stdout",
     "output_type": "stream",
     "text": [
      "Cannot find maximum mass for enveloped planet with radius 3.4999143616662134\n"
     ]
    },
    {
     "name": "stderr",
     "output_type": "stream",
     "text": [
      " 77%|█████████████████████████████████████████████████████████████▉                  | 387/500 [12:02<02:09,  1.15s/it]"
     ]
    },
    {
     "name": "stdout",
     "output_type": "stream",
     "text": [
      "Cannot find maximum mass for enveloped planet with radius 3.500003544978992\n"
     ]
    },
    {
     "name": "stderr",
     "output_type": "stream",
     "text": [
      "100%|████████████████████████████████████████████████████████████████████████████████| 500/500 [14:22<00:00,  1.72s/it]\n"
     ]
    }
   ],
   "source": [
    "#photoevaporation\n",
    "cl.PlanetarySystem.calc_min_mass_env(system, PE=True, CPML=False, PRV=False)\n",
    "Kepler36c_PE=system.planetEnv.minMcore_samps"
   ]
  },
  {
   "cell_type": "code",
   "execution_count": 6,
   "id": "6f71c374",
   "metadata": {},
   "outputs": [
    {
     "name": "stderr",
     "output_type": "stream",
     "text": [
      " 16%|█████████████▎                                                                   | 82/500 [06:28<29:20,  4.21s/it]"
     ]
    },
    {
     "name": "stdout",
     "output_type": "stream",
     "text": [
      "Cannot find maximum mass for enveloped planet with radius 3.4998620744887234\n"
     ]
    },
    {
     "name": "stderr",
     "output_type": "stream",
     "text": [
      " 64%|███████████████████████████████████████████████████▌                            | 322/500 [25:08<12:31,  4.22s/it]"
     ]
    },
    {
     "name": "stdout",
     "output_type": "stream",
     "text": [
      "Cannot find maximum mass for enveloped planet with radius 3.4999143616662134\n"
     ]
    },
    {
     "name": "stderr",
     "output_type": "stream",
     "text": [
      " 78%|██████████████████████████████████████████████████████████████                  | 388/500 [30:14<07:50,  4.21s/it]"
     ]
    },
    {
     "name": "stdout",
     "output_type": "stream",
     "text": [
      "Cannot find maximum mass for enveloped planet with radius 3.500003544978992\n"
     ]
    },
    {
     "name": "stderr",
     "output_type": "stream",
     "text": [
      "100%|████████████████████████████████████████████████████████████████████████████████| 500/500 [39:00<00:00,  4.68s/it]\n"
     ]
    }
   ],
   "source": [
    "#core-powered mass loss\n",
    "cl.PlanetarySystem.calc_min_mass_env(system, PE=False, CPML=True, PRV=False)\n",
    "Kepler36c_CPML=system.planetEnv.minMcore_samps"
   ]
  },
  {
   "cell_type": "code",
   "execution_count": 9,
   "id": "77cf265e",
   "metadata": {},
   "outputs": [
    {
     "name": "stderr",
     "output_type": "stream",
     "text": [
      "100%|████████████████████████████████████████████████████████████████████████████████| 500/500 [00:11<00:00, 41.67it/s]\n"
     ]
    }
   ],
   "source": [
    "#primordial radius valley model\n",
    "cl.PlanetarySystem.calc_min_mass_env(system, PE=False, CPML=False, PRV=True)\n",
    "Kepler36c_PRV=system.planetEnv.minMcore_samps"
   ]
  },
  {
   "cell_type": "markdown",
   "id": "63435b1f",
   "metadata": {},
   "source": [
    "Let's plot the probability distribution function for the enveloped planet minimum mass returned by each mechanism. We'll compare this to the measured mass of the planet from Vissapragada et al. (2020)."
   ]
  },
  {
   "cell_type": "code",
   "execution_count": 11,
   "id": "792531e5",
   "metadata": {},
   "outputs": [
    {
     "data": {
      "text/plain": [
       "<matplotlib.legend.Legend at 0x16a136b1370>"
      ]
     },
     "execution_count": 11,
     "metadata": {},
     "output_type": "execute_result"
    },
    {
     "data": {
      "image/png": "[encoded data removed]",
      "text/plain": [
       "<Figure size 432x288 with 1 Axes>"
      ]
     },
     "metadata": {
      "needs_background": "light"
     },
     "output_type": "display_data"
    }
   ],
   "source": [
    "plt.hist(Kepler36c_PE,bins=30,density=True,histtype='step', linewidth=2, color='royalblue',label='Predicted Minimum- PE')\n",
    "\n",
    "plt.hist(Kepler36c_CPML,bins=30,density=True,histtype='step',linewidth=2, color='brown',label='Predicted Minimum-CPML')\n",
    "\n",
    "plt.hist(Kepler36c_PRV,bins=30,density=True,histtype='step',linewidth=2, color='lightsalmon',label='Predicted Minimum-PRV')\n",
    "\n",
    "expected_mass=np.random.normal(7.13, 0.18, 500)\n",
    "plt.hist(expected_mass,  bins=30, density=True, histtype='step',linewidth=2, color='k',label='Measured Mass')\n",
    "\n",
    "plt.ylabel('Probability Density',fontsize=14)\n",
    "plt.xlabel(r'Core Mass [M$_\\oplus$]',fontsize=14)\n",
    "plt.title('Kepler 36c')\n",
    "plt.legend()"
   ]
  },
  {
   "cell_type": "markdown",
   "id": "50031a40",
   "metadata": {},
   "source": [
    "Here we see that the measured mass is greater than most of the minimum masses returned by photoevaporation or the primordial radius valley model. However, the minimum masses returned by core-powered mass loss, are clearly greater than the measured mass. From this probability distribution, we conclude that it is unlikely that Kepler-36 is consistent with core-powered mass loss. "
   ]
  },
  {
   "cell_type": "code",
   "execution_count": null,
   "id": "52225439",
   "metadata": {},
   "outputs": [],
   "source": []
  }
 ],
 "metadata": {
  "kernelspec": {
   "display_name": "Python 3 (ipykernel)",
   "language": "python",
   "name": "python3"
  },
  "language_info": {
   "codemirror_mode": {
    "name": "ipython",
    "version": 3
   },
   "file_extension": ".py",
   "mimetype": "text/x-python",
   "name": "python",
   "nbconvert_exporter": "python",
   "pygments_lexer": "ipython3",
   "version": "3.9.12"
  }
 },
 "nbformat": 4,
 "nbformat_minor": 5
}
