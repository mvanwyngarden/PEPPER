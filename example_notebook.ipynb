{
 "cells": [
  {
   "cell_type": "code",
   "execution_count": 1,
   "id": "88124768",
   "metadata": {},
   "outputs": [],
   "source": [
    "import numpy as np\n",
    "import matplotlib.pyplot as plt\n",
    "import classes as cl\n",
    "import masslosstime_env as ml_env"
   ]
  },
  {
   "cell_type": "code",
   "execution_count": 2,
   "id": "e6513201",
   "metadata": {
    "scrolled": true
   },
   "outputs": [
    {
     "name": "stderr",
     "output_type": "stream",
     "text": [
      "  0%|                                             | 0/1000 [00:00<?, ?it/s]C:\\Users\\madir\\anaconda3\\lib\\site-packages\\scipy\\optimize\\minpack.py:175: RuntimeWarning: The iteration is not making good progress, as measured by the \n",
      "  improvement from the last ten iterations.\n",
      "  warnings.warn(msg, RuntimeWarning)\n",
      "  0%|                                     | 1/1000 [00:00<07:38,  2.18it/s]C:\\Users\\madir\\anaconda3\\lib\\site-packages\\scipy\\optimize\\minpack.py:175: RuntimeWarning: The iteration is not making good progress, as measured by the \n",
      "  improvement from the last five Jacobian evaluations.\n",
      "  warnings.warn(msg, RuntimeWarning)\n",
      " 17%|█████▉                             | 169/1000 [01:36<07:41,  1.80it/s]C:\\Users\\madir\\Radius_Valleyproj\\planetstructure.py:105: IntegrationWarning: The algorithm does not converge.  Roundoff error is detected\n",
      "  in the extrapolation table.  It is assumed that the requested tolerance\n",
      "  cannot be achieved, and that the returned result (if full_output = 1) is \n",
      "  the best which can be obtained.\n",
      "  I1 = quad(integrand1, Rcore/Rrcb, 1)[0]\n",
      "100%|██████████████████████████████████| 1000/1000 [10:54<00:00,  1.53it/s]\n"
     ]
    }
   ],
   "source": [
    "starparams=(1.14,4790, 1.73, 5860.88) #mass, age, radius, effective temperature \n",
    "planetRockyparams=(1.56,9.341) #radius, period\n",
    "planetEnvparams=(2.43,13.727)  #radius, period\n",
    "system=cl.PlanetarySystem(starparams, planetRockyparams, planetEnvparams, N=1000, Mstar_err=.05, Star_age_err=700, Rstar_err=.1, Teff_err=138.56, Rrocky_err=0.07, Procky_err=0.0, Renv_err=0.11, Penv_err=0.0)"
   ]
  },
  {
   "cell_type": "code",
   "execution_count": null,
   "id": "c77cb528",
   "metadata": {
    "scrolled": true
   },
   "outputs": [],
   "source": [
    "#if the above cell contains sampled radius values that return an error\n",
    "#run this cell to remove the min mass values associated with the faulty radius values\n",
    "#then we are only plotting the min mass estimates that did not trigger value errors within the script\n",
    "\n",
    "for i in range (np.size(ml_env.errs)): \n",
    "    j=np.where(system.planetEnv.Rcore_samp==ml_env.errs[i])\n",
    "    system.planetEnv.Rcore_samp=np.delete(system.planetEnv.Rcore_samp,j)\n",
    "    \n",
    "print(np.size(system.planetEnv.Rcore_samp))\n"
   ]
  },
  {
   "cell_type": "code",
   "execution_count": 3,
   "id": "c233f39f",
   "metadata": {},
   "outputs": [
    {
     "data": {
      "image/png": "[encoded data removed]",
      "text/plain": [
       "<Figure size 432x288 with 1 Axes>"
      ]
     },
     "metadata": {
      "needs_background": "light"
     },
     "output_type": "display_data"
    },
    {
     "name": "stdout",
     "output_type": "stream",
     "text": [
      "The 95% upper limit to be consistent with photoevaporation is\n",
      "3.770830673720425 Mearth\n"
     ]
    }
   ],
   "source": [
    "q25, q75 = np.percentile(system.planetEnv.minMcore_samps, [25, 75])\n",
    "bin_width = 2 * (q75 - q25) * len(system.planetEnv.minMcore_samps) ** (-1/3)\n",
    "bins = round((system.planetEnv.minMcore_samps.max() - system.planetEnv.minMcore_samps.min()) / bin_width)\n",
    "plt.hist(system.planetEnv.minMcore_samps,bins=bins,density=True,histtype='step')\n",
    "plt.plot([(np.percentile(system.planetEnv.minMcore_samps,5.)),(np.percentile(system.planetEnv.minMcore_samps,5.))],[0.,1.],'--',color='r')\n",
    "#plt.plot([60.2,60.2],[0,1.],':',color='b')\n",
    "#plt.axvspan(49, 71, color='b', alpha=0.2)\n",
    "plt.ylim((0.,1.))\n",
    "plt.ylabel('Probability Density',fontsize=12)\n",
    "plt.xlabel(r'Minimum Core Mass [M$_\\oplus$]',fontsize=12)\n",
    "plt.title('Kepler 338b')\n",
    "#plt.savefig('Kepler338b_1000.png',dpi=180., bbox_inches='tight')\n",
    "plt.show()\n",
    "print('The 95% upper limit to be consistent with photoevaporation is')\n",
    "print((np.percentile(system.planetEnv.minMcore_samps,5.)),'Mearth')"
   ]
  },
  {
   "cell_type": "code",
   "execution_count": null,
   "id": "6e15ea67",
   "metadata": {},
   "outputs": [],
   "source": []
  }
 ],
 "metadata": {
  "kernelspec": {
   "display_name": "Python 3 (ipykernel)",
   "language": "python",
   "name": "python3"
  },
  "language_info": {
   "codemirror_mode": {
    "name": "ipython",
    "version": 3
   },
   "file_extension": ".py",
   "mimetype": "text/x-python",
   "name": "python",
   "nbconvert_exporter": "python",
   "pygments_lexer": "ipython3",
   "version": "3.9.12"
  }
 },
 "nbformat": 4,
 "nbformat_minor": 5
}
